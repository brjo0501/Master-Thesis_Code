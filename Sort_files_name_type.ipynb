{
 "cells": [
  {
   "cell_type": "code",
   "execution_count": 12,
   "metadata": {},
   "outputs": [
    {
     "name": "stdout",
     "output_type": "stream",
     "text": [
      "All files have been sorted, renamed with a counter, and copied to respective folders.\n"
     ]
    }
   ],
   "source": [
    "import os\n",
    "import shutil\n",
    "\n",
    "# Define the path to the main folder containing the files\n",
    "main_folder_path = \"G:\\\\My Drive\\\\Master Thesis\\\\Simulation\\\\Dataset\"\n",
    "\n",
    "# List of file types to sort by\n",
    "file_types = [\"normal\", \"size_1\", \"feeder_3\", \"gripper_1\", \"max_Vel_2\"]\n",
    "\n",
    "# Dictionary to keep track of the counter for each file type\n",
    "file_counters = {file_type: 0 for file_type in file_types}\n",
    "\n",
    "# Iterate through each subfolder in the main folder\n",
    "for subfolder_name in os.listdir(main_folder_path):\n",
    "    subfolder_path = os.path.join(main_folder_path, subfolder_name)\n",
    "\n",
    "    # Ensure that it is a directory (subfolder)\n",
    "    if os.path.isdir(subfolder_path):\n",
    "        # Iterate through the files in the subfolder\n",
    "        for filename in os.listdir(subfolder_path):\n",
    "            # Ignore files that contain \"event\" in their name\n",
    "            if \"event\" in filename:\n",
    "                continue\n",
    "            \n",
    "            # Check for each file type and sort accordingly\n",
    "            for file_type in file_types:\n",
    "                if file_type in filename:\n",
    "                    # Increment the counter for this file type\n",
    "                    file_counters[file_type] += 1\n",
    "                    \n",
    "                    # Create the destination folder if it doesn't exist\n",
    "                    destination_folder = os.path.join(main_folder_path, f\"Dataset_{file_type}\")\n",
    "                    os.makedirs(destination_folder, exist_ok=True)\n",
    "                    \n",
    "                    # Modify the file name to include the counter\n",
    "                    file_base, file_ext = os.path.splitext(filename)\n",
    "                    new_filename = f\"{file_type}-{file_counters[file_type]}{file_ext}\"\n",
    "                    \n",
    "                    # Copy the file to the respective folder\n",
    "                    source_path = os.path.join(subfolder_path, filename)\n",
    "                    destination_path = os.path.join(destination_folder, new_filename)\n",
    "                    shutil.copy2(source_path, destination_path)\n",
    "                    break\n",
    "\n",
    "print(\"All files have been sorted, renamed with a counter, and copied to respective folders.\")\n"
   ]
  }
 ],
 "metadata": {
  "kernelspec": {
   "display_name": "thesis",
   "language": "python",
   "name": "python3"
  },
  "language_info": {
   "codemirror_mode": {
    "name": "ipython",
    "version": 3
   },
   "file_extension": ".py",
   "mimetype": "text/x-python",
   "name": "python",
   "nbconvert_exporter": "python",
   "pygments_lexer": "ipython3",
   "version": "3.9.19"
  }
 },
 "nbformat": 4,
 "nbformat_minor": 2
}
