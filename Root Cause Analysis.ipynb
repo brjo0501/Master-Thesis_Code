{
 "cells": [
  {
   "cell_type": "markdown",
   "id": "4f28141b",
   "metadata": {},
   "source": [
    "# Root Cause Analysis"
   ]
  },
  {
   "cell_type": "markdown",
   "id": "c683bd1b",
   "metadata": {},
   "source": [
    "In this notebook, we will explain how to use PyRCA for root cause analysis."
   ]
  },
  {
   "cell_type": "code",
   "execution_count": 4,
   "id": "0ac0df1c",
   "metadata": {},
   "outputs": [
    {
     "ename": "ModuleNotFoundError",
     "evalue": "No module named 'pyrca.analyzers'",
     "output_type": "error",
     "traceback": [
      "\u001b[1;31m---------------------------------------------------------------------------\u001b[0m",
      "\u001b[1;31mModuleNotFoundError\u001b[0m                       Traceback (most recent call last)",
      "Cell \u001b[1;32mIn[4], line 4\u001b[0m\n\u001b[0;32m      2\u001b[0m \u001b[38;5;28;01mimport\u001b[39;00m \u001b[38;5;21;01mnumpy\u001b[39;00m \u001b[38;5;28;01mas\u001b[39;00m \u001b[38;5;21;01mnp\u001b[39;00m\n\u001b[0;32m      3\u001b[0m \u001b[38;5;28;01mimport\u001b[39;00m \u001b[38;5;21;01mpyrca\u001b[39;00m\n\u001b[1;32m----> 4\u001b[0m \u001b[38;5;28;01mfrom\u001b[39;00m \u001b[38;5;21;01mpyrca\u001b[39;00m\u001b[38;5;21;01m.\u001b[39;00m\u001b[38;5;21;01manalyzers\u001b[39;00m\u001b[38;5;21;01m.\u001b[39;00m\u001b[38;5;21;01mht\u001b[39;00m \u001b[38;5;28;01mimport\u001b[39;00m HT, HTConfig\n",
      "\u001b[1;31mModuleNotFoundError\u001b[0m: No module named 'pyrca.analyzers'"
     ]
    }
   ],
   "source": [
    "import networkx as nx\n",
    "import numpy as np\n",
    "import pyrca\n",
    "from pyrca.analyzers.ht import HT, HTConfig\n"
   ]
  },
  {
   "cell_type": "code",
   "execution_count": null,
   "id": "360ddf57",
   "metadata": {},
   "outputs": [],
   "source": [
    "G = nx.DiGraph()\n",
    "\n",
    "\n",
    "\n",
    "# Draw the graph\n",
    "nx.draw(G, with_labels=True)"
   ]
  },
  {
   "cell_type": "code",
   "execution_count": null,
   "id": "ecdee14a",
   "metadata": {},
   "outputs": [],
   "source": [
    "model = HT(config=HTConfig(graph=estimated_matrix))\n",
    "model.train(normal_data_df)\n",
    "\n",
    "results = model.find_root_causes(abnormal_data_df, \"X1\", True).to_list()\n",
    "print(results)"
   ]
  },
  {
   "cell_type": "code",
   "execution_count": null,
   "id": "d40404c0",
   "metadata": {},
   "outputs": [],
   "source": [
    "# transform node names from 0 to N-1 to X1 to XN\n",
    "no_of_var = data['meta']['parent_weights'].shape[0]\n",
    "original_names = [i for i in range(no_of_var)]\n",
    "node_names = [(\"X%d\" % (i + 1)) for i in range(no_of_var)]\n",
    "mapping = dict(zip(original_names, node_names))\n",
    "G = nx.relabel_nodes(G, mapping)\n",
    "\n",
    "# label the root cause nodes \n",
    "color_list = np.array(['blue','red'])\n",
    "node_color_idx = list((data['meta']['root_causes'] != 0).astype(int))\n",
    "node_color = color_list[node_color_idx]\n",
    "print(f\"The generated graph: {nx.is_directed_acyclic_graph(G)} is directed and acyclic.\")\n",
    "nx.draw(G, with_labels = True, node_color=node_color)"
   ]
  },
  {
   "cell_type": "code",
   "execution_count": null,
   "id": "cbcf8a73",
   "metadata": {},
   "outputs": [],
   "source": [
    "import networkx as nx\n",
    "import numpy as np\n",
    "\n",
    "# transform node names from 0 to N-1 to X1 to XN\n",
    "no_of_var = data['meta']['parent_weights'].shape[0]\n",
    "original_names = [i for i in range(no_of_var)]\n",
    "node_names = [(\"X%d\" % (i + 1)) for i in range(no_of_var)]\n",
    "mapping = dict(zip(original_names, node_names))\n",
    "G = nx.relabel_nodes(G, mapping)\n",
    "\n",
    "# label the root cause nodes \n",
    "color_list = np.array(['blue','red'])\n",
    "node_color_idx = list((data['meta']['root_causes'] != 0).astype(int))\n",
    "node_color = color_list[node_color_idx]\n",
    "print(f\"The generated graph: {nx.is_directed_acyclic_graph(G)} is directed and acyclic.\")\n",
    "nx.draw(G, with_labels = True, node_color=node_color)"
   ]
  },
  {
   "cell_type": "markdown",
   "id": "da7a31e1",
   "metadata": {},
   "source": [
    "In the graph, we can find X18 and X2 are two root causes."
   ]
  },
  {
   "cell_type": "code",
   "execution_count": null,
   "id": "85e19c37",
   "metadata": {},
   "outputs": [],
   "source": [
    "import pandas as pd\n",
    "true_matrix = pd.DataFrame((data['meta']['parent_weights']!=0).astype(int), columns=node_names, index=node_names)\n",
    "true_matrix"
   ]
  },
  {
   "cell_type": "markdown",
   "id": "eb4bf929",
   "metadata": {},
   "source": [
    "We can infer this causal graph from the normal data."
   ]
  },
  {
   "cell_type": "code",
   "execution_count": null,
   "id": "6b3f4984",
   "metadata": {},
   "outputs": [],
   "source": [
    "from pyrca.graphs.causal.pc import PC\n",
    "import pandas as pd\n",
    "\n",
    "# load data\n",
    "training_samples = data['data']['num_samples']\n",
    "tot_data = data['data']['data']\n",
    "normal_data = tot_data[:training_samples]\n",
    "normal_data_df = pd.DataFrame(normal_data, columns=node_names)\n",
    "abnormal_data = tot_data[training_samples:]\n",
    "abnormal_data_df = pd.DataFrame(abnormal_data, columns=node_names)\n",
    "\n",
    "# train causal graph construction model\n",
    "model = PC(PC.config_class())\n",
    "estimated_matrix = model.train(normal_data_df)"
   ]
  },
  {
   "cell_type": "code",
   "execution_count": null,
   "id": "f4ea0658",
   "metadata": {},
   "outputs": [],
   "source": [
    "estimated_matrix"
   ]
  },
  {
   "cell_type": "markdown",
   "id": "ed3ff914",
   "metadata": {},
   "source": [
    "We can also evaluat the peformane of estimated graph using preceision, recall, f1 and shd"
   ]
  },
  {
   "cell_type": "code",
   "execution_count": null,
   "id": "869562b7",
   "metadata": {},
   "outputs": [],
   "source": [
    "from pyrca.utils.evaluation import precision, recall, f1, shd\n",
    "\n",
    "adjPrec = precision(true_matrix, estimated_matrix)\n",
    "print(f\"Precision: {adjPrec:.3f}\")\n",
    "adjRec = recall(true_matrix, estimated_matrix)\n",
    "print(f\"Recall: {adjRec:.3f}\")\n",
    "f1 = f1(true_matrix, estimated_matrix)\n",
    "print(f\"F1: {f1 :.3f}\")\n",
    "shd = shd(true_matrix, estimated_matrix)\n",
    "print(f\"SHD: {shd.get_shd()}\")"
   ]
  },
  {
   "cell_type": "markdown",
   "id": "858af393",
   "metadata": {},
   "source": [
    "If you are not satisfied with the performance of estimated graph, you can add more domain knowledge, like required link, forbidden link, root nodes to improve the performance."
   ]
  },
  {
   "cell_type": "markdown",
   "id": "25438b93",
   "metadata": {},
   "source": [
    "Given the estimated graph, we build a root cause localization model by using hypothesis testing algorithm. In the defult setting, the model would output the top-3 root cause nodes."
   ]
  },
  {
   "cell_type": "markdown",
   "id": "8e38e5ab",
   "metadata": {},
   "source": [
    "We are able to identify the root causes X18 and X2 using a hypothesis testing algorithm, despite the estimated graph not being entirely accurate."
   ]
  }
 ],
 "metadata": {
  "kernelspec": {
   "display_name": "Python 3 (ipykernel)",
   "language": "python",
   "name": "python3"
  },
  "language_info": {
   "codemirror_mode": {
    "name": "ipython",
    "version": 3
   },
   "file_extension": ".py",
   "mimetype": "text/x-python",
   "name": "python",
   "nbconvert_exporter": "python",
   "pygments_lexer": "ipython3",
   "version": "3.9.19"
  }
 },
 "nbformat": 4,
 "nbformat_minor": 5
}
