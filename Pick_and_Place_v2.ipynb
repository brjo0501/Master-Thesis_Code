{
 "cells": [
  {
   "cell_type": "markdown",
   "metadata": {},
   "source": [
    "# Master Thesis - Simulated Pick and Place Machine - Data Gathering"
   ]
  },
  {
   "cell_type": "code",
   "execution_count": 8,
   "metadata": {},
   "outputs": [],
   "source": [
    "from coppeliasim_zmqremoteapi_client import RemoteAPIClient\n",
    "import pandas as pd\n",
    "import numpy as np\n",
    "\n",
    "def convert_to_entry(input_dict):\n",
    "    return {key: [value] for key, value in input_dict.items()}\n",
    "\n",
    "def convert_list_df(input_list):\n",
    "    df = pd.DataFrame(convert_to_entry(input_list[0]))\n",
    "    for i in range(1,len(input_list)):\n",
    "        df.loc[i] = convert_to_entry(input_list[i])\n",
    "    return df\n"
   ]
  },
  {
   "cell_type": "markdown",
   "metadata": {},
   "source": [
    "## Connection to Simulation"
   ]
  },
  {
   "cell_type": "code",
   "execution_count": 9,
   "metadata": {},
   "outputs": [],
   "source": [
    "client = RemoteAPIClient()\n",
    "\n",
    "\n",
    "sim = client.require('sim')\n",
    "simBWF = client.require('simBWF')\n",
    "\n",
    "sim.setStepping(True)\n",
    "\n",
    "sim.startSimulation()\n",
    "\n",
    "camera_1 = sim.getObject('/camera_1/camera')\n",
    "camera_4 = sim.getObject('/camera_4/camera')\n",
    "camera_1_df = pd.DataFrame()\n",
    "camera_4_df = pd.DataFrame()\n",
    "\n",
    "conveyor1 = sim.getObject(\"/genericConveyorTypeA[0]\")\n",
    "conveyor2 = sim.getObject(\"/genericConveyorTypeA[2]\")\n",
    "conveyor3 = sim.getObject(\"/genericConveyorTypeA[1]\")\n",
    "conveyor_1_df = pd.DataFrame()\n",
    "conveyor_2_df = pd.DataFrame()\n",
    "conveyor_3_df = pd.DataFrame()\n",
    "\n",
    "detectionWindow_1 = sim.getObject(\"/genericDetectionWindow[3]\")\n",
    "detection_1_df = pd.DataFrame()\n",
    "\n",
    "\n",
    "\n",
    "while (t := sim.getSimulationTime()) < 10:\n",
    "    camera_1_data = pd.DataFrame([sim.unpackTable(sim.readCustomDataBlock(camera_1,'customData'))])\n",
    "    camera_4_data = pd.DataFrame([sim.unpackTable(sim.readCustomDataBlock(camera_4,'customData'))])\n",
    "\n",
    "    conveyor_1_data = pd.DataFrame([sim.unpackTable(sim.readCustomDataBlock(conveyor1, simBWF.modelTags.CONVEYOR))])\n",
    "    conveyor_2_data = pd.DataFrame([sim.unpackTable(sim.readCustomDataBlock(conveyor2, simBWF.modelTags.CONVEYOR))])\n",
    "    conveyor_3_data = pd.DataFrame([sim.unpackTable(sim.readCustomDataBlock(conveyor3, simBWF.modelTags.CONVEYOR))])\n",
    "\n",
    "    detection_1_data = pd.DataFrame([sim.unpackTable(sim.readCustomDataBlock(detectionWindow_1,'customData'))])\n",
    "\n",
    "    camera_1_df= pd.concat([camera_1_df,camera_1_data], ignore_index=True)\n",
    "    camera_4_df= pd.concat([camera_4_df,camera_4_data], ignore_index=True)\n",
    "\n",
    "    conveyor_1_df= pd.concat([conveyor_1_df,conveyor_1_data['velocity']], ignore_index=True)\n",
    "    conveyor_2_df= pd.concat([conveyor_2_df,conveyor_2_data['velocity']], ignore_index=True)\n",
    "    conveyor_3_df= pd.concat([conveyor_3_df,conveyor_3_data['velocity']], ignore_index=True)\n",
    "\n",
    "    detection_1_df= pd.concat([detection_1_df,detection_1_data], ignore_index=True)\n",
    "\n",
    "    sim.step()\n",
    "\n",
    "sim.stopSimulation()"
   ]
  },
  {
   "cell_type": "markdown",
   "metadata": {},
   "source": [
    "## Data preparation"
   ]
  },
  {
   "cell_type": "code",
   "execution_count": 10,
   "metadata": {},
   "outputs": [],
   "source": [
    "camera_1_df.replace(np.nan,0,inplace=True)\n",
    "camera_4_df.replace(np.nan,0,inplace=True)\n",
    "\n",
    "conveyor_1_df.replace(np.nan,0,inplace=True)\n",
    "conveyor_2_df.replace(np.nan,0,inplace=True)\n",
    "conveyor_3_df.replace(np.nan,0,inplace=True)\n",
    "\n",
    "detection_1_df.replace(np.nan,0,inplace=True)\n"
   ]
  },
  {
   "cell_type": "code",
   "execution_count": null,
   "metadata": {},
   "outputs": [],
   "source": []
  },
  {
   "cell_type": "code",
   "execution_count": null,
   "metadata": {},
   "outputs": [],
   "source": []
  }
 ],
 "metadata": {
  "kernelspec": {
   "display_name": "thesis",
   "language": "python",
   "name": "python3"
  },
  "language_info": {
   "codemirror_mode": {
    "name": "ipython",
    "version": 3
   },
   "file_extension": ".py",
   "mimetype": "text/x-python",
   "name": "python",
   "nbconvert_exporter": "python",
   "pygments_lexer": "ipython3",
   "version": "3.9.19"
  }
 },
 "nbformat": 4,
 "nbformat_minor": 2
}
